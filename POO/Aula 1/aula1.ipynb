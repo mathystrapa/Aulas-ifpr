{
 "cells": [
  {
   "cell_type": "code",
   "execution_count": 18,
   "metadata": {},
   "outputs": [
    {
     "name": "stdout",
     "output_type": "stream",
     "text": [
      "<__main__.Carro object at 0x000002298BC434D0>\n"
     ]
    }
   ],
   "source": [
    "# CLASSES\n",
    "\n",
    "# UMA CLASSE CONTÉM ATRIBUTOS E MÉTODOS. UM OBJETO É UMA CLASSE COM ATRIBUTOS ESPECÍFICOS, OS QUAIS SÃO ESPECIFICADOS ATRAVÉS DO MÉTODO CONTRUTOR\n",
    "\n",
    "# UM MÉTODO CONSTRUTOR (EM PYTHON, O MÉTODO \"__init__(self)\"), É O QUE DEFINE OS ATRIBUTOS DE UMA CLASSE. O PRIMEIRO ARGUMENTO DOS MÉTODOS ESPECIAIS (\"__init__(primeiro_argumento, ...)\", \"__str__(primeiro_argumento, ...)\") É RESERVADO PARA SE REFERIR AO PRÓPRIO OBJETO NA INSTANCIAÇÃO DO MESMO. GERALMENTE É ADOTADA A PALAVRA \"self\" -> \"mesmo\", \"si próprio\"\n",
    "\n",
    "#EXEMPLO:\n",
    "\n",
    "class Carro:   # DEFINE A CLASSE \"Carro\"\n",
    "\n",
    "    def __init__(self, brand, model, year, miles, color, plate):   # DEFINE O MÉTODO CONSTRUTOR, O QUAL DEVE RECEBER OS ATRIBUTOS QUE DEFINEM O OBJETO\n",
    "       \n",
    "        self.marca = brand\n",
    "        self.modelo = model\n",
    "        self.ano = year\n",
    "        self.km = 1.6 * miles\n",
    "        self.cor = color\n",
    "        self.placa = plate\n",
    "\n",
    "meu_carrinho = Carro('Chrevolet', 'Camaro', 2007, 1000, 'branco', 'ABC1234')   # 'meu_carrinho' É UM OBJETO, CUJOS PARÂMETROS SÃO ESPECIFICADOS NA MESMA ORDEM DO MÉTODO CONSTRUTOR.\n",
    "\n",
    "print(meu_carrinho)   # CHAMA O OBJETO 'meu_carrinho'. PORÉM, QUANDO CHAMAMOS APENAS A CLASSE SEM UMA FUNÇÃO ESPECIAL QUE SERÁ EXPLICADA A SEGUIR, A TELA MOSTRARÁ APENAS O ENDEREÇO DE MEMÓRIA AONDE O OBJETO ESTÁ ALOCADO."
   ]
  },
  {
   "cell_type": "code",
   "execution_count": 19,
   "metadata": {},
   "outputs": [
    {
     "name": "stdout",
     "output_type": "stream",
     "text": [
      "Características:\n",
      "\n",
      "Nome: Matheus Strapasson\n",
      "Apelido: Strapasson\n",
      "Idade: 17\n",
      "Email: mathystrapa@gmail.com\n",
      "Número de telefone: (41) 99674-6161\n"
     ]
    }
   ],
   "source": [
    "# OUTRO MÉTODO ESPECIAL É O MÉTODO \"__str__(self)\", O QUAL SERVE PARA DEFINIR UMA STRING A SER RETORNADA QUANDO O OBJETO É CHAMADO. OU SEJA, QUANDO CHAMAMOS O OBJETO DENTRO DE UM 'print', ISSO CHAMA, NA VERDADE, O MÉTODO '__str__(self)'.\n",
    "\n",
    "# A PRIMEIRA POSIÇÃO DESSES MÉTODOS SÃO ESPECIAIS, SENDO USADOS PARA SE REFERIR AO PRÓPRIO OBJETO (self = próprio, mesmo). PORÉM, PODEMOS USAR QUALQUER PALAVRA. VEJAMOS UM EXEMPLO DEFININDO UMA CLASSE \"Usuario\" E CHAMANDO ELA.\n",
    "\n",
    "class Usuario:\n",
    "\n",
    "    def __init__(object, name, nickname, age, email, phone_number):\n",
    "\n",
    "        object.nome = name\n",
    "        object.apelido = nickname\n",
    "        object.idade = age\n",
    "        object.email = email\n",
    "        object.numero = phone_number\n",
    "\n",
    "    def __str__(OBJETO):   # DEFINE A FUNÇÃO A SER CHAMADA QUANDO A FUNÇÃO FOR IMPRESSA\n",
    "\n",
    "        return f\"Características:\\n\\nNome: {OBJETO.nome}\\nApelido: {OBJETO.apelido}\\nIdade: {OBJETO.idade}\\nEmail: {OBJETO.email}\\nNúmero de telefone: {OBJETO.numero}\"\n",
    "   \n",
    "meu_usuario = Usuario('Matheus Strapasson', 'Strapasson', 17, 'mathystrapa@gmail.com', '(41) 99674-6161')   # CRIA UM OBJETO (INSTÂNCIA) DA CLASSE 'Usuario' E ARMAZENA NA VARIÁVEL 'meu_usuario'\n",
    "\n",
    "print(meu_usuario)   # CHAMA A FUNÇÃO '__str__()' PARA IMPRIMIR NA TELA"
   ]
  },
  {
   "cell_type": "code",
   "execution_count": 20,
   "metadata": {},
   "outputs": [
    {
     "name": "stdout",
     "output_type": "stream",
     "text": [
      "Características:\n",
      "\n",
      "Nome: Matheus Strapasson\n",
      "Apelido: Strapasson\n",
      "Idade: 17\n",
      "Email: mathystrapa@gmail.com\n",
      "Número de telefone: (41) 99674-6161\n"
     ]
    }
   ],
   "source": [
    "# NOTE QUE NÃO HÁ DIFERENÇA SE ESPECIFICARMOS O MÉTODO '__str__()'. QUANDO NÃO ESPECIFICAMOS O MÉTODO QUE QUEREMOS, O PADRÃO É CHAMAR O MÉTODO '__self__()'.\n",
    "\n",
    "print(meu_usuario.__str__())"
   ]
  },
  {
   "cell_type": "code",
   "execution_count": 21,
   "metadata": {},
   "outputs": [
    {
     "name": "stdout",
     "output_type": "stream",
     "text": [
      "Informações do indivíduo: \n",
      "Nome: Matheus Strapasson\n",
      "Idade: 17\n",
      "Sexo: masculino\n",
      "Altura: 1.82\n",
      "Peso: 78\n",
      "\n",
      "Laudo: O indivíduo de nome Matheus Strapasson, de 17 anos de idade, do sexo masculino, encontra-se na seguinte situação com relação a seu peso: Normal\n"
     ]
    }
   ],
   "source": [
    "# EXISTEM OUTRAS FUNÇÕES (MÉTODOS) DE CLASSES ESPECIAIS A SEREM VISTAS NAS PRÓXIMAS AULAS. ENTRETANTO, PODEMOS CRIAR OUTROS MÉTODOS PERSONALIZADOS. EXEMPLO:\n",
    "\n",
    "class Pessoa:\n",
    "\n",
    "    def __init__(object, name, age, sex, height, mass):   # MÉTODO CONSTRUTOR RECEBE NOME, IDADE, SEXO, ALTURA E MASSA COMO PARÂMETROS\n",
    "\n",
    "        object.nome = name\n",
    "        object.idade = age\n",
    "        object.altura = height\n",
    "        object.massa = mass\n",
    "        object.sexo = sex\n",
    "\n",
    "    def __str__(object):   # MÉTODO A SER CHAMADO QUANDO A INSTÂNCIA FOR CHAMADA COMO STRING\n",
    "\n",
    "        return (f'\\nNome: {object.nome}\\nIdade: {object.idade}\\nSexo: {object.sexo}\\nAltura: {object.altura}\\nPeso: {object.massa}')\n",
    "    \n",
    "    def laudo(object):   # MÉTODO CRIADO PARA IMPRIMIR O LAUDO DA PESSOA A PARTIR DE SEU IMC (ÍNDICE DE MASSA CORPORAL), CALCULADO ATRAVÉS DO PESO E DA ALTURA.\n",
    "\n",
    "        imc = object.massa / (object.altura) ** 2   # FÓRMULA DO IMC\n",
    "\n",
    "        if imc < 18.5:\n",
    "\n",
    "            condicao_corporal = 'Baixo peso'\n",
    "\n",
    "        elif imc < 25:\n",
    "\n",
    "            condicao_corporal = 'Normal'\n",
    "\n",
    "        elif imc < 30:\n",
    "\n",
    "            condicao_corporal = 'Sobrepeso'\n",
    "\n",
    "        elif imc < 35:\n",
    "\n",
    "            condicao_corporal = 'Obseidade Grau 1'\n",
    "        \n",
    "        elif imc < 40:\n",
    "\n",
    "            condicao_corporal = 'Obseidade Grau 2 (grave)'\n",
    "\n",
    "        else:\n",
    "\n",
    "            condicao_corporal = 'Obesidade Grau 3 (muito grave)'\n",
    "\n",
    "        return (f'O indivíduo de nome {object.nome}, de {object.idade} anos de idade, do sexo {object.sexo}, encontra-se na seguinte situação com relação a seu peso: {condicao_corporal}')\n",
    "\n",
    "\n",
    "p1 = Pessoa('Matheus Strapasson', '17', 'masculino', 1.82, 78)   # INSTANCIAÇÃO DO OBJETO 'p1'\n",
    "\n",
    "print('Informações do indivíduo:', p1)   # CHAMA O MÉTODO '__str__()'\n",
    "\n",
    "print('\\nLaudo:', p1.laudo())   # CHAMA O MÉTODO 'laudo()'"
   ]
  }
 ],
 "metadata": {
  "kernelspec": {
   "display_name": "Python 3",
   "language": "python",
   "name": "python3"
  },
  "language_info": {
   "codemirror_mode": {
    "name": "ipython",
    "version": 3
   },
   "file_extension": ".py",
   "mimetype": "text/x-python",
   "name": "python",
   "nbconvert_exporter": "python",
   "pygments_lexer": "ipython3",
   "version": "3.11.4"
  },
  "orig_nbformat": 4
 },
 "nbformat": 4,
 "nbformat_minor": 2
}
