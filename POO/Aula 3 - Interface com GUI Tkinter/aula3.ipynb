{
 "cells": [
  {
   "cell_type": "markdown",
   "metadata": {},
   "source": [
    "Agora que já aprendemos fomos introduzidos a Programação Orientada a Objetos, precisamos aprender a trabalhar (pelo menos o básico) com interfaces de interação com o usuário (afinal, o usuário não vai ter acesso ao código).\n",
    "\n",
    "O primeiro pacote que vamos utilizar para utilizar interfaces em Python é o GUI Tkinter. Como já é uma biblioteca padrão do Python, não necessita instalação pelo pip."
   ]
  },
  {
   "cell_type": "code",
   "execution_count": 1,
   "metadata": {},
   "outputs": [],
   "source": [
    "import tkinter as tk\n",
    "from tkinter import ttk     # IMPORTA A BIBLIOTECA TTK DO PACOTE TKINTER\n",
    "\n",
    "janela_basica = tk.Tk()     # CRIA UMA JANELA ATRAVÉS DO MÉTODO 'Tk'\n",
    "\n",
    "janela_basica.title('Minha primeira janela')\n",
    "\n",
    "janela_basica.geometry('200x400')   # DEFINE O TAMANHO DA JANELA (LARGURA X ALTURA)\n",
    "\n",
    "saida = tk.Button(janela_basica, text=\"fechar_janela\", command=lambda : janela_basica.quit())   # CRIA UM BOTÃO DE SAÍDA CHAMADO \"fechar_janela\"\n",
    "\n",
    "saida.pack(ipadx=55, ipady=55, expand=True)\n",
    "\n",
    "janela_basica.mainloop()    # INICIA O LOOP QUE VAI DEIXAR A JANELA ABERTA E GARANTE O GERENCIAMENTO RESPONSIVO DA MESMA"
   ]
  },
  {
   "cell_type": "markdown",
   "metadata": {},
   "source": [
    "ATENÇÃO. O CÓDIGO ACIMA PROVAVELMENTE IRÁ TRAVAR SE EXECUTADO NO JÚPITER KERNEL. É RECOMENDADO USÁ-LO COM ARQUIVOS .py SIMPLES"
   ]
  },
  {
   "cell_type": "markdown",
   "metadata": {},
   "source": [
    "EXPLICAÇÃO DOS MÉTODOS USADOS PARA CRIAR ESSA JANELA:\n",
    "\n",
    "    - \".Tk()\":  é uma função de classe que cria uma instância da classe Tk, que representa a janela principal da GUI Tkinter. O método .Tk() é uma parte    fundamental da biblioteca Tkinter em Python e é usado para criar uma janela principal, que é a janela principal de uma interface gráfica de usuário (GUI) Tkinter. Quando você chama .Tk(), ele cria a janela principal da sua aplicação Tkinter. Essa janela é onde todos os outros widgets (como botões, rótulos, campos de entrada, etc.) e elementos da GUI são colocados.\n",
    "\n",
    "    - \".title('window-name')\": define o título ou nome da janela\n",
    "\n",
    "    - \".geometry()\": define as dimensões e a posição inicial da janela principal de uma interface gráfica de usuário (GUI). Ele permite especificar a largura, altura e a posição da janela em relação à tela do computador. Parâmetros:\n",
    "\n",
    "        - \"larguraxaltura\": Especifica as dimensões da janela em pixels. Você deve fornecer a largura e a altura desejadas da janela, separadas por \"x\". Por exemplo, \"800x600\" define uma janela com 800 pixels de largura e 600 pixels de altura.\n",
    "\n",
    "        - \"x\" (opcional): Este é um caractere opcional que separa as dimensões da janela da posição inicial em relação à tela. Se você não deseja definir uma posição inicial, pode omitir este caractere. Caso contrário, use-o para separar as dimensões da posição inicial.\n",
    "\n",
    "        - \"y\" (opcional): Especifica a posição inicial da janela em relação à tela, e é opcional. Se você não definir um valor para \"y\", a janela será centralizada na tela verticalmente. Se desejar definir uma posição específica verticalmente, você pode fornecer um valor em pixels para \"y\".\n",
    "\n",
    "    - \".Button()\": usado para criar um widget de botão em uma interface gráfica de usuário (GUI). Botões são elementos interativos que os usuários podem clicar para acionar ações ou eventos em um programa. \n",
    "            \n",
    "            Sintaxe: widget_botao = tk.Button(container, parâmetros)\n",
    "\n",
    "                container: Este é o widget ou o container (por exemplo, a janela principal) onde o botão será colocado. O botão será criado dentro deste container.\n",
    "\n",
    "            Parâmetros:\n",
    "\n",
    "                - text (opcional): Especifica o texto exibido no botão. Por exemplo, text=\"Clique Aqui\" exibirá o texto \"Clique Aqui\" no botão.\n",
    "\n",
    "                - command (opcional): Define a função ou método que será executado quando o botão for clicado. Isso permite que você associe uma ação específica ao botão.\n",
    "\n",
    "                - width e height (opcional): Controlam a largura e a altura do botão em pixels.\n",
    "\n",
    "                - bg (opcional): Define a cor de fundo do botão.\n",
    "\n",
    "                - fg (opcional): Define a cor do texto do botão.\n",
    "\n",
    "                - font (opcional): Define a fonte usada para o texto no botão.\n",
    "\n",
    "                - state (opcional): Define o estado do botão. Pode ser \"normal\" (ativo), \"disabled\" (desativado) ou \"active\" (ativo).\n",
    "\n",
    "                - relief (opcional): Controla a aparência 3D do botão. Pode ser \"flat\" (plano), \"raised\" (elevado), \"sunken\" (afundado), entre outros.\n",
    "\n",
    "    - \".pack()\": é um dos métodos de gerenciamento de geometria na biblioteca Tkinter em Python e é usado para organizar widgets (como botões, rótulos, campos de entrada, etc.) dentro de um container, como uma janela principal ou um quadro (Frame). Ele é uma das opções de organização de widgets e segue o modelo de layout \"empacotamento\" (packing). \n",
    "\n",
    "        Sintaxe: widget.pack(parâmetros)\n",
    "\n",
    "        Parâmetros: \n",
    "\n",
    "            - side: Esta opção especifica em qual lado do container o widget será colocado. Pode ser \"top\" (topo), \"bottom\" (fundo), \"left\" (esquerda) ou \"right\" (direita).\n",
    "\n",
    "            - fill: Define se o widget deve se estender para preencher todo o espaço disponível no eixo especificado. Pode ser \"x\" (horizontal), \"y\" (vertical) ou \"both\" (ambos).\n",
    "\n",
    "            - expand: Controla se o widget deve expandir para ocupar todo o espaço disponível no container. Pode ser True ou False.\n",
    "            padx e pady: Especifica a quantidade de espaço em pixels a ser adicionada ao redor do widget na direção x (horizontal) e y (vertical), respectivamente.\n",
    "\n",
    "            - anchor: Define a posição do widget dentro do espaço alocado. Os valores possíveis incluem \"n\" (norte), \"s\" (sul), \"w\" (oeste), \"e\" (leste) e combinações como \"nw\" (nordeste) ou \"se\" (sudeste).\n",
    "\n",
    "    - \".mainloop()\": inicia o loop principal da GUI. Este loop é um loop infinito que é executado continuamente enquanto a janela da GUI está aberta. Esse método não aceita parâmetros"
   ]
  }
 ],
 "metadata": {
  "kernelspec": {
   "display_name": "Python 3",
   "language": "python",
   "name": "python3"
  },
  "language_info": {
   "codemirror_mode": {
    "name": "ipython",
    "version": 3
   },
   "file_extension": ".py",
   "mimetype": "text/x-python",
   "name": "python",
   "nbconvert_exporter": "python",
   "pygments_lexer": "ipython3",
   "version": "3.11.4"
  },
  "orig_nbformat": 4
 },
 "nbformat": 4,
 "nbformat_minor": 2
}
