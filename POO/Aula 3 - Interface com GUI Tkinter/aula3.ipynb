{
 "cells": [
  {
   "cell_type": "markdown",
   "metadata": {},
   "source": [
    "Agora que já aprendemos fomos introduzidos a Programação Orientada a Objetos, precisamos aprender a trabalhar (pelo menos o básico) com interfaces de interação com o usuário (afinal, o usuário não vai ter acesso ao código).\n",
    "\n",
    "O primeiro pacote que vamos utilizar para utilizar interfaces em Python é o GUI Tkinter. Como já é uma biblioteca padrão do Python, não necessita instalação pelo pip."
   ]
  },
  {
   "cell_type": "code",
   "execution_count": 1,
   "metadata": {},
   "outputs": [],
   "source": [
    "import tkinter as tk\n",
    "from tkinter import ttk     # IMPORTA A BIBLIOTECA TTK DO PACOTE TKINTER\n",
    "\n",
    "janela_basica = tk.Tk()     # CRIA UMA JANELA ATRAVÉS DO MÉTODO 'Tk'\n",
    "\n",
    "janela_basica.geometry('200x400')   # DEFINE O TAMANHO DA JANELA (LARGURA X ALTURA)\n",
    "\n",
    "saida = tk.Button(janela_basica, text=\"fechar_janela\", command=lambda : janela_basica.quit())   # CRIA UM BOTÃO DE SAÍDA CHAMADO \"fechar_janela\"\n",
    "\n",
    "saida.pack(ipadx=55, ipady=55, expand=True)\n",
    "\n",
    "janela_basica.mainloop()    # INICIA O LOOP QUE VAI DEIXAR A JANELA ABERTA E GARANTE O GERENCIAMENTO RESPONSIVO DA MESMA"
   ]
  },
  {
   "cell_type": "markdown",
   "metadata": {},
   "source": [
    "ATENÇÃO. O CÓDIGO ACIMA PROVAVELMENTE IRÁ TRAVAR SE EXECUTADO NO JÚPITER KERNEL. É RECOMENDADO USÁ-LO COM ARQUIVOS .py SIMPLES"
   ]
  }
 ],
 "metadata": {
  "kernelspec": {
   "display_name": "Python 3",
   "language": "python",
   "name": "python3"
  },
  "language_info": {
   "codemirror_mode": {
    "name": "ipython",
    "version": 3
   },
   "file_extension": ".py",
   "mimetype": "text/x-python",
   "name": "python",
   "nbconvert_exporter": "python",
   "pygments_lexer": "ipython3",
   "version": "3.11.4"
  },
  "orig_nbformat": 4
 },
 "nbformat": 4,
 "nbformat_minor": 2
}
