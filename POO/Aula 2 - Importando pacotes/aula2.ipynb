{
 "cells": [
  {
   "cell_type": "code",
   "execution_count": 1,
   "metadata": {},
   "outputs": [
    {
     "name": "stdout",
     "output_type": "stream",
     "text": [
      "Hello World\n"
     ]
    }
   ],
   "source": [
    "# Quando importamos uma biblioteca Python, na verdade estamos importando classes de um ou mais pacotes contidos na biblioteca. Isso permite que você utilize as funcionalidades e recursos fornecidos por essas classes em seu código.\n",
    "\n",
    "# O Python é amplamente reconhecido por ser uma linguagem de programação orientada a objetos (OOP), e a grande parte de suas funcionalidades é implementada usando classes e objetos.\n",
    "\n",
    "# Na programação orientada a objetos, o código é estruturado em torno de objetos, que são instâncias de classes. As classes definem o comportamento e as características dos objetos, e você pode criar objetos baseados nessas classes. No Python, quase tudo é um objeto, inclusive tipos de dados básicos como strings, números e listas.\n",
    "\n",
    "# Exemplo: Dentro do Python, já vem incluída a classe 'str', a qual possui alguns métodos como 'upper()', 'lower()', 'split()', etc.\n",
    "\n",
    "# Nessa aula será ensinado como importar pacotes de classes que você mesmo criou. O pacote está na pasta \"classes\". Para que o pacote seja reconhecido como tal pelo Python, é necessário criar um arquivo \"__init__.py\" (vazio) nele (após criar esse arquivo uma outra pasta chamada \"pychache\" será criada automaticamente). Portanto, é de extrema importância que você visualize as classes criadas nessa pasta. Nessa aula, criaremos algumas classes que cumprem funcionalidades que já vem implantadas no Python, mas as usaremos através das nossas classes."
   ]
  }
 ],
 "metadata": {
  "kernelspec": {
   "display_name": "Python 3",
   "language": "python",
   "name": "python3"
  },
  "language_info": {
   "codemirror_mode": {
    "name": "ipython",
    "version": 3
   },
   "file_extension": ".py",
   "mimetype": "text/x-python",
   "name": "python",
   "nbconvert_exporter": "python",
   "pygments_lexer": "ipython3",
   "version": "3.11.5"
  },
  "orig_nbformat": 4
 },
 "nbformat": 4,
 "nbformat_minor": 2
}
