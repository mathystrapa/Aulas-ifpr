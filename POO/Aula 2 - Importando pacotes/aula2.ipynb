{
 "cells": [
  {
   "cell_type": "markdown",
   "metadata": {},
   "source": [
    "Quando importamos uma biblioteca Python, na verdade estamos importando classes de um ou mais pacotes contidos na biblioteca. Isso permite que você utilize as funcionalidades e recursos fornecidos por essas classes em seu código.\n",
    "\n",
    "O Python é amplamente reconhecido por ser uma linguagem de programação orientada a objetos (POO), e a grande parte de suas funcionalidades é implementada usando classes e objetos.\n",
    "\n",
    "Na programação orientada a objetos, o código é estruturado em torno de objetos, que são instâncias de classes. As classes definem o comportamento e as características dos objetos, e você pode criar objetos baseados nessas classes. No Python, quase tudo é um objeto, inclusive tipos de dados básicos como strings, números e listas.\n",
    "\n",
    "Exemplo: Dentro do Python, já vem incluída a classe 'str', a qual possui alguns métodos como 'upper()', 'lower()', 'split()', etc. Cada método pode receber alguns parâmetros (alguns opcionais, outros obrigatórios) e é este o motivo de todo método possuir um parênteses no final. Os comandos que vão ao final de uma variável/objeto/instância de classe são atributos (valores do objeto calculados automaticamente)\n",
    "\n",
    "Nessa aula será ensinado como importar pacotes de classes que você mesmo criou. O pacote está na pasta \"classes\". Para que o pacote seja reconhecido como tal pelo Python, é necessário criar um arquivo \"__init__.py\" (vazio) nele (após criar esse arquivo uma outra pasta chamada \"pychache\" será criada automaticamente). Portanto, é de extrema importância que você visualize as classes criadas nessa pasta. Nessa aula, criaremos algumas classes que cumprem funcionalidades que já vem implantadas no Python, mas as usaremos através das nossas classes.\n",
    "\n",
    "Para utilizar essas classes, precisamos importá-las."
   ]
  },
  {
   "cell_type": "code",
   "execution_count": 8,
   "metadata": {},
   "outputs": [
    {
     "name": "stdout",
     "output_type": "stream",
     "text": [
      "\n",
      "teste\n",
      "\n",
      "\n",
      "String Inserida: MATHEUS strapasson\n",
      "\n",
      "String inserida em caixa alta (usando nossa própria classe): MATHEUS STRAPASSON\n",
      "Unexpected exception formatting exception. Falling back to standard exception\n"
     ]
    },
    {
     "name": "stderr",
     "output_type": "stream",
     "text": [
      "Traceback (most recent call last):\n",
      "  File \"C:\\Users\\Aluno\\AppData\\Roaming\\Python\\Python311\\site-packages\\IPython\\core\\interactiveshell.py\", line 3526, in run_code\n",
      "    exec(code_obj, self.user_global_ns, self.user_ns)\n",
      "  File \"C:\\Users\\Aluno\\AppData\\Local\\Temp\\ipykernel_3488\\30547557.py\", line 7, in <module>\n",
      "    print('\\nString inserida em caixa baixa (usando nossa própria classe):', string_teste.caixa_baixa())\n",
      "                                                                             ^^^^^^^^^^^^^^^^^^^^^^^^^^\n",
      "  File \"c:\\Users\\Aluno\\Desktop\\Strapasson\\Aulas-ifpr\\POO\\Aula 2 - Importando pacotes\\Classes\\classe_string.py\", line 74, in caixa_baixa\n",
      "    lower_string = ''\n",
      "TypeError: 'String' object is not iterable\n",
      "\n",
      "During handling of the above exception, another exception occurred:\n",
      "\n",
      "Traceback (most recent call last):\n",
      "  File \"C:\\Users\\Aluno\\AppData\\Roaming\\Python\\Python311\\site-packages\\IPython\\core\\interactiveshell.py\", line 2120, in showtraceback\n",
      "    stb = self.InteractiveTB.structured_traceback(\n",
      "          ^^^^^^^^^^^^^^^^^^^^^^^^^^^^^^^^^^^^^^^^\n",
      "  File \"C:\\Users\\Aluno\\AppData\\Roaming\\Python\\Python311\\site-packages\\IPython\\core\\ultratb.py\", line 1435, in structured_traceback\n",
      "    return FormattedTB.structured_traceback(\n",
      "           ^^^^^^^^^^^^^^^^^^^^^^^^^^^^^^^^^\n",
      "  File \"C:\\Users\\Aluno\\AppData\\Roaming\\Python\\Python311\\site-packages\\IPython\\core\\ultratb.py\", line 1326, in structured_traceback\n",
      "    return VerboseTB.structured_traceback(\n",
      "           ^^^^^^^^^^^^^^^^^^^^^^^^^^^^^^^\n",
      "  File \"C:\\Users\\Aluno\\AppData\\Roaming\\Python\\Python311\\site-packages\\IPython\\core\\ultratb.py\", line 1173, in structured_traceback\n",
      "    formatted_exception = self.format_exception_as_a_whole(etype, evalue, etb, number_of_lines_of_context,\n",
      "                          ^^^^^^^^^^^^^^^^^^^^^^^^^^^^^^^^^^^^^^^^^^^^^^^^^^^^^^^^^^^^^^^^^^^^^^^^^^^^^^^^\n",
      "  File \"C:\\Users\\Aluno\\AppData\\Roaming\\Python\\Python311\\site-packages\\IPython\\core\\ultratb.py\", line 1088, in format_exception_as_a_whole\n",
      "    frames.append(self.format_record(record))\n",
      "                  ^^^^^^^^^^^^^^^^^^^^^^^^^^\n",
      "  File \"C:\\Users\\Aluno\\AppData\\Roaming\\Python\\Python311\\site-packages\\IPython\\core\\ultratb.py\", line 970, in format_record\n",
      "    frame_info.lines, Colors, self.has_colors, lvals\n",
      "    ^^^^^^^^^^^^^^^^\n",
      "  File \"C:\\Users\\Aluno\\AppData\\Roaming\\Python\\Python311\\site-packages\\IPython\\core\\ultratb.py\", line 792, in lines\n",
      "    return self._sd.lines\n",
      "           ^^^^^^^^^^^^^^\n",
      "  File \"C:\\Users\\Aluno\\AppData\\Roaming\\Python\\Python311\\site-packages\\stack_data\\utils.py\", line 144, in cached_property_wrapper\n",
      "    value = obj.__dict__[self.func.__name__] = self.func(obj)\n",
      "                                               ^^^^^^^^^^^^^^\n",
      "  File \"C:\\Users\\Aluno\\AppData\\Roaming\\Python\\Python311\\site-packages\\stack_data\\core.py\", line 734, in lines\n",
      "    pieces = self.included_pieces\n",
      "             ^^^^^^^^^^^^^^^^^^^^\n",
      "  File \"C:\\Users\\Aluno\\AppData\\Roaming\\Python\\Python311\\site-packages\\stack_data\\utils.py\", line 144, in cached_property_wrapper\n",
      "    value = obj.__dict__[self.func.__name__] = self.func(obj)\n",
      "                                               ^^^^^^^^^^^^^^\n",
      "  File \"C:\\Users\\Aluno\\AppData\\Roaming\\Python\\Python311\\site-packages\\stack_data\\core.py\", line 681, in included_pieces\n",
      "    pos = scope_pieces.index(self.executing_piece)\n",
      "                             ^^^^^^^^^^^^^^^^^^^^\n",
      "  File \"C:\\Users\\Aluno\\AppData\\Roaming\\Python\\Python311\\site-packages\\stack_data\\utils.py\", line 144, in cached_property_wrapper\n",
      "    value = obj.__dict__[self.func.__name__] = self.func(obj)\n",
      "                                               ^^^^^^^^^^^^^^\n",
      "  File \"C:\\Users\\Aluno\\AppData\\Roaming\\Python\\Python311\\site-packages\\stack_data\\core.py\", line 660, in executing_piece\n",
      "    return only(\n",
      "           ^^^^^\n",
      "  File \"C:\\Users\\Aluno\\AppData\\Roaming\\Python\\Python311\\site-packages\\executing\\executing.py\", line 190, in only\n",
      "    raise NotOneValueFound('Expected one value, found 0')\n",
      "executing.executing.NotOneValueFound: Expected one value, found 0\n"
     ]
    }
   ],
   "source": [
    "from Classes.classe_string import String    # IMPORTA A CLASSE STRING DO ARQUIVO 'classe_string' DA PASTA 'Classes'\n",
    "\n",
    "string_teste = String()\n",
    "\n",
    "print('\\nString Inserida:', string_teste)\n",
    "print('\\nString inserida em caixa alta (usando nossa própria classe):', string_teste.caixa_alta())\n",
    "print('\\nString inserida em caixa baixa (usando nossa própria classe):', string_teste.caixa_baixa())"
   ]
  }
 ],
 "metadata": {
  "kernelspec": {
   "display_name": "Python 3",
   "language": "python",
   "name": "python3"
  },
  "language_info": {
   "codemirror_mode": {
    "name": "ipython",
    "version": 3
   },
   "file_extension": ".py",
   "mimetype": "text/x-python",
   "name": "python",
   "nbconvert_exporter": "python",
   "pygments_lexer": "ipython3",
   "version": "3.11.4"
  },
  "orig_nbformat": 4
 },
 "nbformat": 4,
 "nbformat_minor": 2
}
