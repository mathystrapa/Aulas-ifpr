{
 "cells": [
  {
   "cell_type": "markdown",
   "metadata": {},
   "source": [
    "Quando importamos uma biblioteca Python, na verdade estamos importando classes de um ou mais pacotes contidos na biblioteca. Isso permite que você utilize as funcionalidades e recursos fornecidos por essas classes em seu código.\n",
    "\n",
    "O Python é amplamente reconhecido por ser uma linguagem de programação orientada a objetos (POO), e a grande parte de suas funcionalidades é implementada usando classes e objetos.\n",
    "\n",
    "Na programação orientada a objetos, o código é estruturado em torno de objetos, que são instâncias de classes. As classes definem o comportamento e as características dos objetos, e você pode criar objetos baseados nessas classes. No Python, quase tudo é um objeto, inclusive tipos de dados básicos como strings, números e listas.\n",
    "\n",
    "Exemplo: Dentro do Python, já vem incluída a classe 'str', a qual possui alguns métodos como 'upper()', 'lower()', 'split()', etc. Cada método pode receber alguns parâmetros (alguns opcionais, outros obrigatórios) e é este o motivo de todo método possuir um parênteses no final. Os comandos que vão ao final de uma variável/objeto/instância de classe são atributos (valores do objeto calculados automaticamente)\n",
    "\n",
    "Nessa aula será ensinado como importar pacotes de classes que você mesmo criou. O pacote está na pasta \"classes\". Para que o pacote seja reconhecido como tal pelo Python, é necessário criar um arquivo \"__init__.py\" (vazio) nele (após criar esse arquivo uma outra pasta chamada \"pychache\" será criada automaticamente). Portanto, é de extrema importância que você visualize as classes criadas nessa pasta. Nessa aula, criaremos algumas classes que cumprem funcionalidades que já vem implantadas no Python, mas as usaremos através das nossas classes.\n",
    "\n",
    "Para utilizar essas classes, precisamos importá-las."
   ]
  },
  {
   "cell_type": "code",
   "execution_count": 16,
   "metadata": {},
   "outputs": [
    {
     "name": "stdout",
     "output_type": "stream",
     "text": [
      "<Classes.classe_string.String object at 0x00000134954251D0>\n"
     ]
    }
   ],
   "source": [
    "from Classes.classe_string import String    # IMPORTA A CLASSE STRING DO ARQUIVO 'classe_string' DA PASTA 'Classes'\n",
    "\n",
    "string_teste = String()\n",
    "\n",
    "print(string_teste)\n",
    "\n",
    "#caixa_alta = string_teste.caixa_alta()\n",
    "#caixa_baixa = string_teste.caixa_baixa()\n",
    "\n",
    "#print('\\nString inserida em caixa alta (usando nossa própria classe):', caixa_alta)\n",
    "#print('\\nString inserida em caixa baixa (usando nossa própria classe):', caixa_baixa)"
   ]
  }
 ],
 "metadata": {
  "kernelspec": {
   "display_name": "Python 3",
   "language": "python",
   "name": "python3"
  },
  "language_info": {
   "codemirror_mode": {
    "name": "ipython",
    "version": 3
   },
   "file_extension": ".py",
   "mimetype": "text/x-python",
   "name": "python",
   "nbconvert_exporter": "python",
   "pygments_lexer": "ipython3",
   "version": "3.11.4"
  },
  "orig_nbformat": 4
 },
 "nbformat": 4,
 "nbformat_minor": 2
}
