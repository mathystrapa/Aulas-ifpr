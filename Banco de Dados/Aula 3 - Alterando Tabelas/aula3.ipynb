{
 "cells": [
  {
   "cell_type": "markdown",
   "metadata": {},
   "source": [
    "Nessa aula, aprenderemos alguns comandos SQL para operar com tabelas SQL.\n",
    "\n",
    "Primeiramente, precisamos de um banco de dados teste. Para isso, utilizaremos a biblioteca mysql.connector (explicação na aula 2) e criaremos um banco de dados fictício."
   ]
  },
  {
   "cell_type": "code",
   "execution_count": null,
   "metadata": {},
   "outputs": [],
   "source": [
    "import mysql.connector\n",
    "\n"
   ]
  }
 ],
 "metadata": {
  "language_info": {
   "name": "python"
  },
  "orig_nbformat": 4
 },
 "nbformat": 4,
 "nbformat_minor": 2
}
