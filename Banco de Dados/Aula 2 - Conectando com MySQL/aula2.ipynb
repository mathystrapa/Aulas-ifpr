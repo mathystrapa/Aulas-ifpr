{
 "cells": [
  {
   "cell_type": "markdown",
   "metadata": {},
   "source": [
    "Na aula anterior, aprendemos a usar o pacote 'sqlite3' para tratar bases de dados pequenas. Nesta aula, veremos sobre o pacote 'mysql.connector', o qual serve para grandes projetos e oferece mais funcionalidades completas e complexas.\n",
    "\n",
    "Diferentemente do 'sqlite3' o 'mysql.connector' requer instalação separadamente, através do comando 'pip install mysql-connector-python' em um terminal. Após a instalação, podemos importar a biblioteca e começar o trabalho.\n",
    "\n",
    "Observação: É preciso ter o MySQL instalado no seu computador. Caso não o tenha, instale no link: 'https://dev.mysql.com/downloads/'. Para verificar se o MySQL está instalado, digite 'mysql' no prompt de comando"
   ]
  },
  {
   "cell_type": "code",
   "execution_count": null,
   "metadata": {},
   "outputs": [],
   "source": [
    "import mysql.connector"
   ]
  },
  {
   "cell_type": "markdown",
   "metadata": {},
   "source": [
    "Agora precisamos conectar-nos a um DataBase do MySQL. Para isso, é preciso informar seu usuário do MySQL, senha e o host do bando de dados, através do seguinte comando:"
   ]
  },
  {
   "cell_type": "code",
   "execution_count": null,
   "metadata": {},
   "outputs": [],
   "source": [
    "mydb = mysql.connector.connect(\n",
    "  host=\"localhost\",     # endereço IP ou domínio do servidor SQL ou \"localhost\" caso o banco de dados seja local\n",
    "  user=\"yourusername\",      # usuário\n",
    "  password=\"yourpassword\"   #senha\n",
    ")"
   ]
  },
  {
   "cell_type": "markdown",
   "metadata": {},
   "source": [
    "Caso não tenha um usuário, poderá criá-lo pelo comando: 'CREATE USER 'novo_usuario'@'localhost' IDENTIFIED BY 'senha_do_novo_usuario';' no servidor MySQL.\n"
   ]
  }
 ],
 "metadata": {
  "language_info": {
   "name": "python"
  },
  "orig_nbformat": 4
 },
 "nbformat": 4,
 "nbformat_minor": 2
}
