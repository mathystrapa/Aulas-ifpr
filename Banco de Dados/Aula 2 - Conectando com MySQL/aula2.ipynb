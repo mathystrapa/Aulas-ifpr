{
 "cells": [
  {
   "cell_type": "markdown",
   "metadata": {},
   "source": [
    "Na aula anterior, aprendemos a usar o pacote 'sqlite3' para tratar bases de dados pequenas. Nesta aula, veremos sobre o pacote 'mysql.connector', o qual serve para grandes projetos e oferece mais funcionalidades completas e complexas.\n",
    "\n",
    "Diferentemente do 'sqlite3' o 'mysql.connector' requer instalação separadamente, através do comando 'pip install mysql-connector-python' em um terminal. Após a instalação, podemos importar a biblioteca e começar o trabalho.\n",
    "\n",
    "Observação: É preciso ter o MySQL instalado no seu computador. Caso não o tenha, instale no link: 'https://dev.mysql.com/downloads/'."
   ]
  },
  {
   "cell_type": "code",
   "execution_count": 11,
   "metadata": {},
   "outputs": [],
   "source": [
    "import mysql.connector"
   ]
  },
  {
   "cell_type": "markdown",
   "metadata": {},
   "source": [
    "Agora precisamos conectar-nos a um DataBase do MySQL. Para isso, é preciso informar seu usuário do MySQL, senha e o host do bando de dados, através do seguinte comando:"
   ]
  },
  {
   "cell_type": "code",
   "execution_count": 12,
   "metadata": {},
   "outputs": [
    {
     "name": "stdout",
     "output_type": "stream",
     "text": [
      "<mysql.connector.connection.MySQLConnection object at 0x0000029750BA3110>\n"
     ]
    }
   ],
   "source": [
    "connector = mysql.connector.connect(\n",
    "  host=\"localhost\",     # ENDEREÇO IP OU DOMÍNIO DO SERVIDOR SQL OU \"LOCALHOST\" CASO O BANCO DE DADOS SEJA LOCAl\n",
    "  user=\"root\",      # USUÁRIO\n",
    "  password=\"matheus2006\"   # SENHA\n",
    ")\n",
    "\n",
    "print(connector)"
   ]
  },
  {
   "cell_type": "markdown",
   "metadata": {},
   "source": [
    "Caso não tenha um usuário, poderá criá-lo pelo comando: 'CREATE USER 'novo_usuario'@'localhost' IDENTIFIED BY 'senha_do_novo_usuario';' no servidor MySQL.\n",
    "\n",
    "Para executar comandos SQL, precisamos criar um cursor com o comando \"banco_de_dados.cursor()\"."
   ]
  },
  {
   "cell_type": "code",
   "execution_count": 13,
   "metadata": {},
   "outputs": [
    {
     "name": "stdout",
     "output_type": "stream",
     "text": [
      "('biblioteca',)\n",
      "('information_schema',)\n",
      "('mysql',)\n",
      "('performance_schema',)\n",
      "('sakila',)\n",
      "('sys',)\n",
      "('world',)\n"
     ]
    }
   ],
   "source": [
    "cursor = connector.cursor()\n",
    "\n",
    "cursor.execute('CREATE DATABASE biblioteca')    # CRIA UM BANCO DE DADOS CHAMADO 'biblioteca'\n",
    "cursor.execute('SHOW DATABASES')    # MOSTRA TODOS OS BANCOS DE DADOS DO SERVIDOR\n",
    "\n",
    "for database in cursor:\n",
    "    print(database)"
   ]
  },
  {
   "cell_type": "code",
   "execution_count": 14,
   "metadata": {},
   "outputs": [],
   "source": [
    "cursor.execute('USE biblioteca')"
   ]
  },
  {
   "cell_type": "markdown",
   "metadata": {},
   "source": [
    "É possível se conectar ao bando de dados desejado diretamente pelo conector (caso queira):\n",
    "\n",
    "conector = mysql.connector.connect(\n",
    "  host=\"localhost\",     # ENDEREÇO IP OU DOMÍNIO DO SERVIDOR SQL OU \"LOCALHOST\" CASO O BANCO DE DADOS SEJA LOCAl\n",
    "  user=\"root\",      # USUÁRIO\n",
    "  password=\"matheus2006\"   # SENHA\n",
    "  database=\"nome_banco_de_dados\"    # CONECTA A UM BANCO DE DADOS DO SERVIDOR (SE EXISTIR)\n",
    ")"
   ]
  },
  {
   "cell_type": "code",
   "execution_count": 16,
   "metadata": {},
   "outputs": [
    {
     "name": "stdout",
     "output_type": "stream",
     "text": [
      "('biblioteca',)\n",
      "('information_schema',)\n",
      "('mysql',)\n",
      "('performance_schema',)\n",
      "('sakila',)\n",
      "('sys',)\n",
      "('world',)\n"
     ]
    }
   ],
   "source": [
    "# EXEMPLO:\n",
    "\n",
    "conector = mysql.connector.connect(\n",
    "    host=\"localhost\",\n",
    "    user=\"root\",\n",
    "    password=\"matheus2006\",\n",
    ")\n",
    "\n",
    "cursor = conector.cursor()\n",
    "\n",
    "cursor.execute('SHOW DATABASES')\n",
    "\n",
    "for banco in cursor:\n",
    "    print(banco)"
   ]
  }
 ],
 "metadata": {
  "kernelspec": {
   "display_name": "Python 3",
   "language": "python",
   "name": "python3"
  },
  "language_info": {
   "codemirror_mode": {
    "name": "ipython",
    "version": 3
   },
   "file_extension": ".py",
   "mimetype": "text/x-python",
   "name": "python",
   "nbconvert_exporter": "python",
   "pygments_lexer": "ipython3",
   "version": "3.11.5"
  },
  "orig_nbformat": 4
 },
 "nbformat": 4,
 "nbformat_minor": 2
}
