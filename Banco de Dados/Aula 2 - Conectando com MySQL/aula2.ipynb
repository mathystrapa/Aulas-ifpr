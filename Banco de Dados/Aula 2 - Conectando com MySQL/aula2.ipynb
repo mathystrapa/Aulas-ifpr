{
 "cells": [
  {
   "cell_type": "markdown",
   "metadata": {},
   "source": [
    "Na aula anterior, aprendemos a usar o pacote 'sqlite3' para tratar bases de dados pequenas. Nesta aula, veremos sobre o pacote 'mysql.connector', o qual serve para grandes projetos e oferece mais funcionalidades completas e complexas.\n",
    "\n",
    "Diferentemente do 'sqlite3' o 'mysql.connector' requer instalação separadamente, através do comando 'pip install mysql-connector-python' em um terminal. Após a instalação, podemos importar a biblioteca e começar o trabalho.\n",
    "\n",
    "Observação: É preciso ter o MySQL instalado no seu computador. Caso não o tenha, instale no link: 'https://dev.mysql.com/downloads/'."
   ]
  },
  {
   "cell_type": "code",
   "execution_count": 61,
   "metadata": {},
   "outputs": [],
   "source": [
    "import mysql.connector"
   ]
  },
  {
   "cell_type": "markdown",
   "metadata": {},
   "source": [
    "Agora precisamos conectar-nos a um DataBase do MySQL. Para isso, é preciso informar seu usuário do MySQL, senha e o host do bando de dados, através do seguinte comando:"
   ]
  },
  {
   "cell_type": "code",
   "execution_count": 62,
   "metadata": {},
   "outputs": [
    {
     "name": "stdout",
     "output_type": "stream",
     "text": [
      "<mysql.connector.connection.MySQLConnection object at 0x000002C9C6EC0510>\n"
     ]
    }
   ],
   "source": [
    "connector_teste = mysql.connector.connect(\n",
    "  host=\"localhost\",     # ENDEREÇO IP OU DOMÍNIO DO SERVIDOR SQL OU \"LOCALHOST\" CASO O BANCO DE DADOS SEJA LOCAl\n",
    "  user=\"root\",      # USUÁRIO\n",
    "  password=\"matheus2006\"   # SENHA\n",
    ")\n",
    "\n",
    "print(connector_teste)"
   ]
  },
  {
   "cell_type": "markdown",
   "metadata": {},
   "source": [
    "Caso não tenha um usuário, poderá criá-lo pelo comando: 'CREATE USER 'novo_usuario'@'localhost' IDENTIFIED BY 'senha_do_novo_usuario';' no servidor MySQL.\n",
    "\n",
    "Para executar comandos SQL, precisamos criar um cursor com o comando \"banco_de_dados.cursor()\"."
   ]
  },
  {
   "cell_type": "code",
   "execution_count": 63,
   "metadata": {},
   "outputs": [
    {
     "name": "stdout",
     "output_type": "stream",
     "text": [
      "('biblioteca',)\n",
      "('biblioteca_ifpr',)\n",
      "('biblioteca_ifpr2',)\n",
      "('biblioteca_ifpr3',)\n",
      "('biblioteca_ifpr4',)\n",
      "('information_schema',)\n",
      "('mysql',)\n",
      "('performance_schema',)\n",
      "('sakila',)\n",
      "('sys',)\n",
      "('world',)\n"
     ]
    }
   ],
   "source": [
    "cursor_teste = connector_teste.cursor()\n",
    "\n",
    "cursor_teste.execute('SHOW DATABASES')    # MOSTRA TODOS OS BANCOS DE DADOS DO SERVIDOR\n",
    "\n",
    "for database in cursor_teste:\n",
    "    print(database)"
   ]
  },
  {
   "cell_type": "markdown",
   "metadata": {},
   "source": [
    "É possível se conectar ao bando de dados desejado diretamente pelo conector (caso queira):"
   ]
  },
  {
   "cell_type": "code",
   "execution_count": 64,
   "metadata": {},
   "outputs": [
    {
     "data": {
      "text/plain": [
       "'\\nconector2 = mysql.connector.connect(\\n    host=\"servidor_sql\",\\n    user=\"seu_usuário\",\\n    password=\"sua_senha\",\\n    database=\"banco_de_dados\"\\n)\\n'"
      ]
     },
     "execution_count": 64,
     "metadata": {},
     "output_type": "execute_result"
    }
   ],
   "source": [
    "# EXEMPLO:\n",
    "\n",
    "\"\"\"\n",
    "conector2 = mysql.connector.connect(\n",
    "    host=\"servidor_sql\",\n",
    "    user=\"seu_usuário\",\n",
    "    password=\"sua_senha\",\n",
    "    database=\"banco_de_dados\"\n",
    ")\n",
    "\"\"\""
   ]
  },
  {
   "cell_type": "markdown",
   "metadata": {},
   "source": [
    "O código abaixo cria um banco de dados chamado \"biblioteca\", as tabelas \"AUTORES\", \"EDITORAS\" e \"LIVROS\" e seus respectivos relacionamentos:"
   ]
  },
  {
   "cell_type": "code",
   "execution_count": 65,
   "metadata": {},
   "outputs": [
    {
     "name": "stdout",
     "output_type": "stream",
     "text": [
      "('autores',)\n",
      "('editoras',)\n",
      "('livros',)\n"
     ]
    }
   ],
   "source": [
    "conector = mysql.connector.connect(\n",
    "    host=\"localhost\",\n",
    "    user=\"root\",\n",
    "    password=\"matheus2006\",\n",
    ")\n",
    "\n",
    "cursor = conector.cursor()\n",
    "\n",
    "cursor.execute('CREATE DATABASE IF NOT EXISTS biblioteca_IFPR4')\n",
    "cursor.execute('USE biblioteca_IFPR4')\n",
    "\n",
    "tabela_autores = \"\"\"\n",
    "CREATE TABLE IF NOT EXISTS AUTORES(\n",
    "    COD_AUTOR INT AUTO_INCREMENT PRIMARY KEY,\n",
    "    NOME VARCHAR(250) NOT NULL,\n",
    "    ANO_NASCIMENTO INT,\n",
    "    NACIONALIDADE VARCHAR(40)\n",
    ")\n",
    "\"\"\"\n",
    "\n",
    "tabela_editoras = \"\"\"\n",
    "CREATE TABLE IF NOT EXISTS EDITORAS(\n",
    "    COD_EDITORA INT AUTO_INCREMENT PRIMARY KEY,\n",
    "    NOME VARCHAR(250) NOT NULL,\n",
    "    LOCALIZACAO VARCHAR(200)\n",
    ")\n",
    "\"\"\"\n",
    "\n",
    "tabela_livros = \"\"\"\n",
    "CREATE TABLE IF NOT EXISTS LIVROS(\n",
    "    COD_LIVRO INT AUTO_INCREMENT PRIMARY KEY,\n",
    "    NOME VARCHAR(50) NOT NULL,\n",
    "    ANO INT NOT NULL,\n",
    "    COD_AUTOR INT,\n",
    "    COD_EDITORA INT,\n",
    "    FOREIGN KEY (COD_AUTOR) REFERENCES AUTORES(COD_AUTOR),\n",
    "    FOREIGN KEY (COD_EDITORA) REFERENCES EDITORAS(COD_EDITORA)\n",
    ")\n",
    "\"\"\"\n",
    "\n",
    "cursor.execute(tabela_editoras)\n",
    "cursor.execute(tabela_autores)\n",
    "cursor.execute(tabela_livros)\n",
    "\n",
    "cursor.execute('SHOW TABLES')   # VERIFICANDO SE AS TABELAS FORAM CRIADAS COM SUCESSO\n",
    "for tabela in cursor:\n",
    "    print(tabela)"
   ]
  },
  {
   "cell_type": "markdown",
   "metadata": {},
   "source": [
    "Podemos utilizar o comando \"ALTER\" para alterar tabelas. Digamos que eu queira adicionar uma coluna na tabela \"AUTORES\" para registrar a quantidade de livros publicados de cada autor:"
   ]
  },
  {
   "cell_type": "code",
   "execution_count": null,
   "metadata": {},
   "outputs": [],
   "source": [
    "try:\n",
    "\n",
    "    cursor.execute(\"ALTER TABLE AUTORES ADD COLUMN QTD_LIVROS INT\")     # ALTERA A TABELA 'AUTORES' E ADICIONA A COLUNA 'QTD_LIVROS' (SE NÃO EXISTIR)\n",
    "    cursor.execute('ALTER TABLE AUTORES DROP COLUMN QTD_LIVROS')        # ALTERA A TABELA 'AUTORES' E REMOVE A COLUNA 'QTD_LIVROS'\n",
    "\n",
    "except:\n",
    "    pass\n"
   ]
  },
  {
   "cell_type": "markdown",
   "metadata": {},
   "source": [
    "Inserindo valores nas tabelas do banco de dados da biblioteca:"
   ]
  },
  {
   "cell_type": "code",
   "execution_count": 66,
   "metadata": {},
   "outputs": [
    {
     "name": "stdout",
     "output_type": "stream",
     "text": [
      "\n",
      "Autores:\n",
      "\n",
      "(1, 'MIGUEL DE CERVANTES', 1547, 'ESPANHA')\n",
      "(2, 'WILLIAM SHAKESPEARE', 1564, 'REINO UNIDO')\n",
      "(3, 'GEORGE ORWELL', 1903, 'REINO UNIDO')\n",
      "(4, 'JANE AUSTEN', 1775, 'INGLATERRA')\n",
      "(5, 'GABRIEL GARCÍA MÁRQUEZ', 1927, 'COLÔMBIA')\n",
      "(6, 'F. SCOTT FITZGERALD', 1896, 'ESTADOS UNIDOS')\n",
      "(7, 'J.K. ROWLING', 1965, 'REINO UNIDO')\n",
      "(8, 'FIÓDOR DOSTOIÉVSKI', 1821, 'RÚSSIA')\n",
      "(9, 'J.D. SALINGER', 1919, 'ESTADOS UNIDOS')\n",
      "(10, 'MIGUEL DE CERVANTES', 1547, 'ESPANHA')\n",
      "(11, 'WILLIAM SHAKESPEARE', 1564, 'REINO UNIDO')\n",
      "(12, 'GEORGE ORWELL', 1903, 'REINO UNIDO')\n",
      "(13, 'JANE AUSTEN', 1775, 'INGLATERRA')\n",
      "(14, 'GABRIEL GARCÍA MÁRQUEZ', 1927, 'COLÔMBIA')\n",
      "(15, 'F. SCOTT FITZGERALD', 1896, 'ESTADOS UNIDOS')\n",
      "(16, 'J.K. ROWLING', 1965, 'REINO UNIDO')\n",
      "(17, 'FIÓDOR DOSTOIÉVSKI', 1821, 'RÚSSIA')\n",
      "(18, 'J.D. SALINGER', 1919, 'ESTADOS UNIDOS')\n",
      "\n",
      "Editoras:\n",
      "\n",
      "(1, 'EDITORIAL ESPASA-CALPE', 'MADRID, ESPANHA')\n",
      "(2, 'PENGUIN CLASSICS', 'LONDRES, REINO UNIDO')\n",
      "(3, 'COMPANHIA DAS LETRAS', 'SÃO PAULO, BRASIL')\n",
      "(4, 'MARTIN CLARET', 'SÃO PAULO, BRASIL')\n",
      "(5, 'RECORD', 'RIO DE JANEIRO, BRASIL')\n",
      "(6, 'L&PM', 'PORTO ALEGRE, BRASIL')\n",
      "(7, 'EDITORA ROCCO', 'RIO DE JANEIRO, BRASIL')\n",
      "(8, 'EDITORA 34', 'SÃO PAULO, BRASIL')\n",
      "(9, 'EDITORA DO AUTOR', 'NOVA YORK, EUA')\n",
      "(10, 'EDITORIAL ESPASA-CALPE', 'MADRID, ESPANHA')\n",
      "(11, 'PENGUIN CLASSICS', 'LONDRES, REINO UNIDO')\n",
      "(12, 'COMPANHIA DAS LETRAS', 'SÃO PAULO, BRASIL')\n",
      "(13, 'MARTIN CLARET', 'SÃO PAULO, BRASIL')\n",
      "(14, 'RECORD', 'RIO DE JANEIRO, BRASIL')\n",
      "(15, 'L&PM', 'PORTO ALEGRE, BRASIL')\n",
      "(16, 'EDITORA ROCCO', 'RIO DE JANEIRO, BRASIL')\n",
      "(17, 'EDITORA 34', 'SÃO PAULO, BRASIL')\n",
      "(18, 'EDITORA DO AUTOR', 'NOVA YORK, EUA')\n",
      "\n",
      "Livros:\n",
      "\n",
      "(1, 'DOM QUIXOTE', 1605, 1, 1)\n",
      "(2, 'ROMEU E JULIETA', 1597, 2, 2)\n",
      "(3, '1984', 1949, 3, 3)\n",
      "(4, 'ORGULHO E PRECONCEITO', 1813, 4, 4)\n",
      "(5, 'CEM ANOS DE SOLIDÃO', 1967, 5, 5)\n",
      "(6, 'A REVOLUÇÃO DOS BICHOS', 1945, 3, 3)\n",
      "(7, 'O GRANDE GATSBY', 1925, 6, 6)\n",
      "(8, 'HARRY POTTER E A PEDRA FILOSOFAL', 1997, 7, 7)\n",
      "(9, 'CRIME E CASTIGO', 1866, 8, 8)\n",
      "(10, 'O APANHADOR NO CAMPO DE CENTEIO', 1951, 9, 9)\n",
      "(11, 'DOM QUIXOTE', 1605, 1, 1)\n",
      "(12, 'ROMEU E JULIETA', 1597, 2, 2)\n",
      "(13, '1984', 1949, 3, 3)\n",
      "(14, 'ORGULHO E PRECONCEITO', 1813, 4, 4)\n",
      "(15, 'CEM ANOS DE SOLIDÃO', 1967, 5, 5)\n",
      "(16, 'A REVOLUÇÃO DOS BICHOS', 1945, 3, 3)\n",
      "(17, 'O GRANDE GATSBY', 1925, 6, 6)\n",
      "(18, 'HARRY POTTER E A PEDRA FILOSOFAL', 1997, 7, 7)\n",
      "(19, 'CRIME E CASTIGO', 1866, 8, 8)\n",
      "(20, 'O APANHADOR NO CAMPO DE CENTEIO', 1951, 9, 9)\n"
     ]
    }
   ],
   "source": [
    "linhas_autores = \"\"\"\n",
    "    INSERT INTO AUTORES (NOME, ANO_NASCIMENTO, NACIONALIDADE)\n",
    "    VALUES\n",
    "    ('MIGUEL DE CERVANTES', 1547, 'ESPANHA'),\n",
    "    ('WILLIAM SHAKESPEARE', 1564, 'REINO UNIDO'),\n",
    "    ('GEORGE ORWELL', 1903, 'REINO UNIDO'),\n",
    "    ('JANE AUSTEN', 1775, 'INGLATERRA'),\n",
    "    ('GABRIEL GARCÍA MÁRQUEZ', 1927, 'COLÔMBIA'),\n",
    "    ('F. SCOTT FITZGERALD', 1896, 'ESTADOS UNIDOS'),\n",
    "    ('J.K. ROWLING', 1965, 'REINO UNIDO'),\n",
    "    ('FIÓDOR DOSTOIÉVSKI', 1821, 'RÚSSIA'),\n",
    "    ('J.D. SALINGER', 1919, 'ESTADOS UNIDOS')\n",
    "\"\"\"    # INSERE ALGUNS AUTORES À TABELA\n",
    "\n",
    "linhas_editoras = \"\"\"\n",
    "    INSERT INTO EDITORAS (NOME, LOCALIZACAO)\n",
    "    VALUES\n",
    "    ('EDITORIAL ESPASA-CALPE', 'MADRID, ESPANHA'),\n",
    "    ('PENGUIN CLASSICS', 'LONDRES, REINO UNIDO'),\n",
    "    ('COMPANHIA DAS LETRAS', 'SÃO PAULO, BRASIL'),\n",
    "    ('MARTIN CLARET', 'SÃO PAULO, BRASIL'),\n",
    "    ('RECORD', 'RIO DE JANEIRO, BRASIL'),\n",
    "    ('L&PM', 'PORTO ALEGRE, BRASIL'),\n",
    "    ('EDITORA ROCCO', 'RIO DE JANEIRO, BRASIL'),\n",
    "    ('EDITORA 34', 'SÃO PAULO, BRASIL'),\n",
    "    ('EDITORA DO AUTOR', 'NOVA YORK, EUA')\n",
    "\"\"\"     # INSERE ALGUMAS EDITORAS À TABELA\n",
    "\n",
    "linhas_livros = \"\"\"\n",
    "    INSERT INTO LIVROS (NOME, ANO, COD_AUTOR, COD_EDITORA)\n",
    "    VALUES\n",
    "    ('DOM QUIXOTE', 1605, 1, 1),\n",
    "    ('ROMEU E JULIETA', 1597, 2, 2),\n",
    "    ('1984', 1949, 3, 3),\n",
    "    ('ORGULHO E PRECONCEITO', 1813, 4, 4),\n",
    "    ('CEM ANOS DE SOLIDÃO', 1967, 5, 5),\n",
    "    ('A REVOLUÇÃO DOS BICHOS', 1945, 3, 3),\n",
    "    ('O GRANDE GATSBY', 1925, 6, 6),\n",
    "    ('HARRY POTTER E A PEDRA FILOSOFAL', 1997, 7, 7),\n",
    "    ('CRIME E CASTIGO', 1866, 8, 8),\n",
    "    ('O APANHADOR NO CAMPO DE CENTEIO', 1951, 9, 9)\n",
    "\"\"\"     # INSERE ALGUNS LIVROS À TABELA\n",
    "\n",
    "cursor.execute(linhas_autores)\n",
    "cursor.execute(linhas_editoras)\n",
    "cursor.execute(linhas_livros)\n",
    "\n",
    "conector.commit()   # COMITA (SALVA) AS ALTERAÇÕES\n",
    "\n",
    "print('\\nAutores:\\n')\n",
    "cursor.execute('SELECT * FROM AUTORES')\n",
    "for autor in cursor:\n",
    "    print(autor)\n",
    "\n",
    "print('\\nEditoras:\\n')\n",
    "cursor.execute('SELECT * FROM EDITORAS')\n",
    "for editora in cursor:\n",
    "    print(editora)\n",
    "\n",
    "print('\\nLivros:\\n')\n",
    "cursor.execute('SELECT * FROM LIVROS')\n",
    "for livro in cursor:\n",
    "    print(livro)"
   ]
  }
 ],
 "metadata": {
  "kernelspec": {
   "display_name": "Python 3",
   "language": "python",
   "name": "python3"
  },
  "language_info": {
   "codemirror_mode": {
    "name": "ipython",
    "version": 3
   },
   "file_extension": ".py",
   "mimetype": "text/x-python",
   "name": "python",
   "nbconvert_exporter": "python",
   "pygments_lexer": "ipython3",
   "version": "3.11.5"
  },
  "orig_nbformat": 4
 },
 "nbformat": 4,
 "nbformat_minor": 2
}
